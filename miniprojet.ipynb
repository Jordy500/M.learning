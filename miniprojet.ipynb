{
 "cells": [
  {
   "cell_type": "markdown",
   "id": "70b65b3b",
   "metadata": {},
   "source": [
    "## Importations des Bibliotheques"
   ]
  },
  {
   "cell_type": "code",
   "execution_count": null,
   "id": "06134fce",
   "metadata": {},
   "outputs": [],
   "source": [
    "import pandas as pd\n",
    "import numpy as np\n",
    "import matplotlib.pyplot as plt\n",
    "import seaborn as sns\n",
    "from ydata_profiling import ProfileReport"
   ]
  },
  {
   "cell_type": "code",
   "execution_count": 8,
   "id": "f34216c5",
   "metadata": {},
   "outputs": [
    {
     "data": {
      "application/vnd.microsoft.datawrangler.viewer.v0+json": {
       "columns": [
        {
         "name": "index",
         "rawType": "int64",
         "type": "integer"
        },
        {
         "name": "Age",
         "rawType": "int64",
         "type": "integer"
        },
        {
         "name": "Sexe",
         "rawType": "object",
         "type": "string"
        },
        {
         "name": "Taux_presence",
         "rawType": "float64",
         "type": "float"
        },
        {
         "name": "Nombre_retards",
         "rawType": "int64",
         "type": "integer"
        },
        {
         "name": "Note_moyenne",
         "rawType": "float64",
         "type": "float"
        },
        {
         "name": "Situation_familiale",
         "rawType": "object",
         "type": "string"
        },
        {
         "name": "Abandon",
         "rawType": "int64",
         "type": "integer"
        }
       ],
       "conversionMethod": "pd.DataFrame",
       "ref": "16e0cb72-722b-4008-a2a1-15beb654a2af",
       "rows": [
        [
         "0",
         "21",
         "Femme",
         "89.5850225059296",
         "2",
         "15.82689572170009",
         "Enfants à charge",
         "0"
        ],
        [
         "1",
         "20",
         "Homme",
         "70.7130680645271",
         "3",
         "12.829358419949394",
         "Célibataire",
         "0"
        ],
        [
         "2",
         "22",
         "Femme",
         "82.1229626203803",
         "1",
         "13.086318616123137",
         "Enfants à charge",
         "0"
        ],
        [
         "3",
         "24",
         "Homme",
         "87.40885871353393",
         "3",
         "14.99203171201456",
         "Célibataire",
         "0"
        ],
        [
         "4",
         "20",
         "Homme",
         "86.47067613058003",
         "3",
         "12.671648591818329",
         "Marié",
         "0"
        ],
        [
         "5",
         "20",
         "Femme",
         "100.0",
         "0",
         "15.34309712527794",
         "Marié",
         "0"
        ],
        [
         "6",
         "24",
         "Homme",
         "87.79840019654326",
         "1",
         "11.869304176857128",
         "Célibataire",
         "0"
        ],
        [
         "7",
         "22",
         "Femme",
         "76.96756322526392",
         "3",
         "13.868002685688117",
         "Célibataire",
         "0"
        ],
        [
         "8",
         "20",
         "Femme",
         "84.23628602328742",
         "2",
         "12.621463054417037",
         "Enfants à charge",
         "0"
        ],
        [
         "9",
         "22",
         "Homme",
         "70.79002933226839",
         "4",
         "10.941971820093196",
         "Marié",
         "0"
        ]
       ],
       "shape": {
        "columns": 7,
        "rows": 10
       }
      },
      "text/html": [
       "<div>\n",
       "<style scoped>\n",
       "    .dataframe tbody tr th:only-of-type {\n",
       "        vertical-align: middle;\n",
       "    }\n",
       "\n",
       "    .dataframe tbody tr th {\n",
       "        vertical-align: top;\n",
       "    }\n",
       "\n",
       "    .dataframe thead th {\n",
       "        text-align: right;\n",
       "    }\n",
       "</style>\n",
       "<table border=\"1\" class=\"dataframe\">\n",
       "  <thead>\n",
       "    <tr style=\"text-align: right;\">\n",
       "      <th></th>\n",
       "      <th>Age</th>\n",
       "      <th>Sexe</th>\n",
       "      <th>Taux_presence</th>\n",
       "      <th>Nombre_retards</th>\n",
       "      <th>Note_moyenne</th>\n",
       "      <th>Situation_familiale</th>\n",
       "      <th>Abandon</th>\n",
       "    </tr>\n",
       "  </thead>\n",
       "  <tbody>\n",
       "    <tr>\n",
       "      <th>0</th>\n",
       "      <td>21</td>\n",
       "      <td>Femme</td>\n",
       "      <td>89.585023</td>\n",
       "      <td>2</td>\n",
       "      <td>15.826896</td>\n",
       "      <td>Enfants à charge</td>\n",
       "      <td>0</td>\n",
       "    </tr>\n",
       "    <tr>\n",
       "      <th>1</th>\n",
       "      <td>20</td>\n",
       "      <td>Homme</td>\n",
       "      <td>70.713068</td>\n",
       "      <td>3</td>\n",
       "      <td>12.829358</td>\n",
       "      <td>Célibataire</td>\n",
       "      <td>0</td>\n",
       "    </tr>\n",
       "    <tr>\n",
       "      <th>2</th>\n",
       "      <td>22</td>\n",
       "      <td>Femme</td>\n",
       "      <td>82.122963</td>\n",
       "      <td>1</td>\n",
       "      <td>13.086319</td>\n",
       "      <td>Enfants à charge</td>\n",
       "      <td>0</td>\n",
       "    </tr>\n",
       "    <tr>\n",
       "      <th>3</th>\n",
       "      <td>24</td>\n",
       "      <td>Homme</td>\n",
       "      <td>87.408859</td>\n",
       "      <td>3</td>\n",
       "      <td>14.992032</td>\n",
       "      <td>Célibataire</td>\n",
       "      <td>0</td>\n",
       "    </tr>\n",
       "    <tr>\n",
       "      <th>4</th>\n",
       "      <td>20</td>\n",
       "      <td>Homme</td>\n",
       "      <td>86.470676</td>\n",
       "      <td>3</td>\n",
       "      <td>12.671649</td>\n",
       "      <td>Marié</td>\n",
       "      <td>0</td>\n",
       "    </tr>\n",
       "    <tr>\n",
       "      <th>5</th>\n",
       "      <td>20</td>\n",
       "      <td>Femme</td>\n",
       "      <td>100.000000</td>\n",
       "      <td>0</td>\n",
       "      <td>15.343097</td>\n",
       "      <td>Marié</td>\n",
       "      <td>0</td>\n",
       "    </tr>\n",
       "    <tr>\n",
       "      <th>6</th>\n",
       "      <td>24</td>\n",
       "      <td>Homme</td>\n",
       "      <td>87.798400</td>\n",
       "      <td>1</td>\n",
       "      <td>11.869304</td>\n",
       "      <td>Célibataire</td>\n",
       "      <td>0</td>\n",
       "    </tr>\n",
       "    <tr>\n",
       "      <th>7</th>\n",
       "      <td>22</td>\n",
       "      <td>Femme</td>\n",
       "      <td>76.967563</td>\n",
       "      <td>3</td>\n",
       "      <td>13.868003</td>\n",
       "      <td>Célibataire</td>\n",
       "      <td>0</td>\n",
       "    </tr>\n",
       "    <tr>\n",
       "      <th>8</th>\n",
       "      <td>20</td>\n",
       "      <td>Femme</td>\n",
       "      <td>84.236286</td>\n",
       "      <td>2</td>\n",
       "      <td>12.621463</td>\n",
       "      <td>Enfants à charge</td>\n",
       "      <td>0</td>\n",
       "    </tr>\n",
       "    <tr>\n",
       "      <th>9</th>\n",
       "      <td>22</td>\n",
       "      <td>Homme</td>\n",
       "      <td>70.790029</td>\n",
       "      <td>4</td>\n",
       "      <td>10.941972</td>\n",
       "      <td>Marié</td>\n",
       "      <td>0</td>\n",
       "    </tr>\n",
       "  </tbody>\n",
       "</table>\n",
       "</div>"
      ],
      "text/plain": [
       "   Age   Sexe  Taux_presence  Nombre_retards  Note_moyenne  \\\n",
       "0   21  Femme      89.585023               2     15.826896   \n",
       "1   20  Homme      70.713068               3     12.829358   \n",
       "2   22  Femme      82.122963               1     13.086319   \n",
       "3   24  Homme      87.408859               3     14.992032   \n",
       "4   20  Homme      86.470676               3     12.671649   \n",
       "5   20  Femme     100.000000               0     15.343097   \n",
       "6   24  Homme      87.798400               1     11.869304   \n",
       "7   22  Femme      76.967563               3     13.868003   \n",
       "8   20  Femme      84.236286               2     12.621463   \n",
       "9   22  Homme      70.790029               4     10.941972   \n",
       "\n",
       "  Situation_familiale  Abandon  \n",
       "0    Enfants à charge        0  \n",
       "1         Célibataire        0  \n",
       "2    Enfants à charge        0  \n",
       "3         Célibataire        0  \n",
       "4               Marié        0  \n",
       "5               Marié        0  \n",
       "6         Célibataire        0  \n",
       "7         Célibataire        0  \n",
       "8    Enfants à charge        0  \n",
       "9               Marié        0  "
      ]
     },
     "execution_count": 8,
     "metadata": {},
     "output_type": "execute_result"
    }
   ],
   "source": [
    "data = pd.read_csv(\"Dataset_Abandon_Scolaire.csv\")\n",
    "data.head(10)"
   ]
  },
  {
   "cell_type": "markdown",
   "id": "661be77d",
   "metadata": {},
   "source": [
    "**Interpretation**"
   ]
  },
  {
   "cell_type": "code",
   "execution_count": 9,
   "id": "862db6ea",
   "metadata": {},
   "outputs": [
    {
     "name": "stdout",
     "output_type": "stream",
     "text": [
      "<class 'pandas.core.frame.DataFrame'>\n",
      "RangeIndex: 2000 entries, 0 to 1999\n",
      "Data columns (total 7 columns):\n",
      " #   Column               Non-Null Count  Dtype  \n",
      "---  ------               --------------  -----  \n",
      " 0   Age                  2000 non-null   int64  \n",
      " 1   Sexe                 2000 non-null   object \n",
      " 2   Taux_presence        2000 non-null   float64\n",
      " 3   Nombre_retards       2000 non-null   int64  \n",
      " 4   Note_moyenne         2000 non-null   float64\n",
      " 5   Situation_familiale  2000 non-null   object \n",
      " 6   Abandon              2000 non-null   int64  \n",
      "dtypes: float64(2), int64(3), object(2)\n",
      "memory usage: 109.5+ KB\n"
     ]
    }
   ],
   "source": [
    "data.shape\n",
    "data.info()"
   ]
  },
  {
   "cell_type": "markdown",
   "id": "723259ed",
   "metadata": {},
   "source": [
    "**Interpretation**"
   ]
  },
  {
   "cell_type": "code",
   "execution_count": null,
   "id": "34f927de",
   "metadata": {},
   "outputs": [],
   "source": [
    "# # Générer le profil\n",
    "# profile = ProfileReport(data, title=\"Analysis of abandon school\", explorative=True, minimal=True)\n",
    "# profile.to_file(\"Analysis of abandon school.html\")"
   ]
  },
  {
   "cell_type": "markdown",
   "id": "1e37f68f",
   "metadata": {},
   "source": [
    "**Interpretation**"
   ]
  },
  {
   "cell_type": "code",
   "execution_count": null,
   "id": "32cf15a6",
   "metadata": {},
   "outputs": [],
   "source": []
  }
 ],
 "metadata": {
  "kernelspec": {
   "display_name": "Python 3",
   "language": "python",
   "name": "python3"
  },
  "language_info": {
   "codemirror_mode": {
    "name": "ipython",
    "version": 3
   },
   "file_extension": ".py",
   "mimetype": "text/x-python",
   "name": "python",
   "nbconvert_exporter": "python",
   "pygments_lexer": "ipython3",
   "version": "3.12.7"
  }
 },
 "nbformat": 4,
 "nbformat_minor": 5
}
